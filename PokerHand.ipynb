{
 "cells": [
  {
   "cell_type": "code",
   "execution_count": 606,
   "id": "ec0d658e",
   "metadata": {},
   "outputs": [],
   "source": [
    "import pandas as pd\n",
    "import numpy as np\n",
    "import tensorflow as tf\n",
    "from tensorflow import keras\n",
    "\n",
    "from tensorflow.keras import layers\n",
    "from tensorflow.keras import metrics\n",
    "\n",
    "from keras.utils import np_utils\n",
    "\n",
    "import os\n",
    "import tempfile\n",
    "\n",
    "import matplotlib as mpl\n",
    "import matplotlib.pyplot as plt\n",
    "import numpy as np\n",
    "import seaborn as sns\n",
    "\n",
    "import sklearn\n",
    "from sklearn.metrics import confusion_matrix\n",
    "from sklearn.metrics import classification_report\n",
    "from sklearn.preprocessing import StandardScaler\n"
   ]
  },
  {
   "cell_type": "code",
   "execution_count": 607,
   "id": "f97286b1",
   "metadata": {},
   "outputs": [],
   "source": [
    "#load data\n",
    "train = pd.read_csv('https://archive.ics.uci.edu/ml/machine-learning-databases/poker/poker-hand-training-true.data', header=None)\n",
    "\n",
    "test = pd.read_csv('https://archive.ics.uci.edu/ml/machine-learning-databases/poker/poker-hand-testing.data')"
   ]
  },
  {
   "cell_type": "code",
   "execution_count": 608,
   "id": "8fa29733",
   "metadata": {},
   "outputs": [],
   "source": [
    "#create column headers\n",
    "train.columns = ['S1', 'C1', 'S2', 'C2', 'S3', 'C3', 'S4', 'C4', 'S5', 'C5', 'Label']\n",
    "test.columns = ['S1', 'C1', 'S2', 'C2', 'S3', 'C3', 'S4', 'C4', 'S5', 'C5', 'Label']"
   ]
  },
  {
   "cell_type": "code",
   "execution_count": 609,
   "id": "600a2317",
   "metadata": {},
   "outputs": [
    {
     "data": {
      "text/html": [
       "<div>\n",
       "<style scoped>\n",
       "    .dataframe tbody tr th:only-of-type {\n",
       "        vertical-align: middle;\n",
       "    }\n",
       "\n",
       "    .dataframe tbody tr th {\n",
       "        vertical-align: top;\n",
       "    }\n",
       "\n",
       "    .dataframe thead th {\n",
       "        text-align: right;\n",
       "    }\n",
       "</style>\n",
       "<table border=\"1\" class=\"dataframe\">\n",
       "  <thead>\n",
       "    <tr style=\"text-align: right;\">\n",
       "      <th></th>\n",
       "      <th>S1</th>\n",
       "      <th>C1</th>\n",
       "      <th>S2</th>\n",
       "      <th>C2</th>\n",
       "      <th>S3</th>\n",
       "      <th>C3</th>\n",
       "      <th>S4</th>\n",
       "      <th>C4</th>\n",
       "      <th>S5</th>\n",
       "      <th>C5</th>\n",
       "      <th>Label</th>\n",
       "    </tr>\n",
       "  </thead>\n",
       "  <tbody>\n",
       "    <tr>\n",
       "      <th>0</th>\n",
       "      <td>1</td>\n",
       "      <td>10</td>\n",
       "      <td>1</td>\n",
       "      <td>11</td>\n",
       "      <td>1</td>\n",
       "      <td>13</td>\n",
       "      <td>1</td>\n",
       "      <td>12</td>\n",
       "      <td>1</td>\n",
       "      <td>1</td>\n",
       "      <td>9</td>\n",
       "    </tr>\n",
       "    <tr>\n",
       "      <th>1</th>\n",
       "      <td>2</td>\n",
       "      <td>11</td>\n",
       "      <td>2</td>\n",
       "      <td>13</td>\n",
       "      <td>2</td>\n",
       "      <td>10</td>\n",
       "      <td>2</td>\n",
       "      <td>12</td>\n",
       "      <td>2</td>\n",
       "      <td>1</td>\n",
       "      <td>9</td>\n",
       "    </tr>\n",
       "    <tr>\n",
       "      <th>2</th>\n",
       "      <td>3</td>\n",
       "      <td>12</td>\n",
       "      <td>3</td>\n",
       "      <td>11</td>\n",
       "      <td>3</td>\n",
       "      <td>13</td>\n",
       "      <td>3</td>\n",
       "      <td>10</td>\n",
       "      <td>3</td>\n",
       "      <td>1</td>\n",
       "      <td>9</td>\n",
       "    </tr>\n",
       "    <tr>\n",
       "      <th>3</th>\n",
       "      <td>4</td>\n",
       "      <td>10</td>\n",
       "      <td>4</td>\n",
       "      <td>11</td>\n",
       "      <td>4</td>\n",
       "      <td>1</td>\n",
       "      <td>4</td>\n",
       "      <td>13</td>\n",
       "      <td>4</td>\n",
       "      <td>12</td>\n",
       "      <td>9</td>\n",
       "    </tr>\n",
       "    <tr>\n",
       "      <th>4</th>\n",
       "      <td>4</td>\n",
       "      <td>1</td>\n",
       "      <td>4</td>\n",
       "      <td>13</td>\n",
       "      <td>4</td>\n",
       "      <td>12</td>\n",
       "      <td>4</td>\n",
       "      <td>11</td>\n",
       "      <td>4</td>\n",
       "      <td>10</td>\n",
       "      <td>9</td>\n",
       "    </tr>\n",
       "  </tbody>\n",
       "</table>\n",
       "</div>"
      ],
      "text/plain": [
       "   S1  C1  S2  C2  S3  C3  S4  C4  S5  C5  Label\n",
       "0   1  10   1  11   1  13   1  12   1   1      9\n",
       "1   2  11   2  13   2  10   2  12   2   1      9\n",
       "2   3  12   3  11   3  13   3  10   3   1      9\n",
       "3   4  10   4  11   4   1   4  13   4  12      9\n",
       "4   4   1   4  13   4  12   4  11   4  10      9"
      ]
     },
     "execution_count": 609,
     "metadata": {},
     "output_type": "execute_result"
    }
   ],
   "source": [
    "train.head()"
   ]
  },
  {
   "cell_type": "code",
   "execution_count": 610,
   "id": "0c918db9",
   "metadata": {},
   "outputs": [
    {
     "data": {
      "text/html": [
       "<div>\n",
       "<style scoped>\n",
       "    .dataframe tbody tr th:only-of-type {\n",
       "        vertical-align: middle;\n",
       "    }\n",
       "\n",
       "    .dataframe tbody tr th {\n",
       "        vertical-align: top;\n",
       "    }\n",
       "\n",
       "    .dataframe thead th {\n",
       "        text-align: right;\n",
       "    }\n",
       "</style>\n",
       "<table border=\"1\" class=\"dataframe\">\n",
       "  <thead>\n",
       "    <tr style=\"text-align: right;\">\n",
       "      <th></th>\n",
       "      <th>S1</th>\n",
       "      <th>C1</th>\n",
       "      <th>S2</th>\n",
       "      <th>C2</th>\n",
       "      <th>S3</th>\n",
       "      <th>C3</th>\n",
       "      <th>S4</th>\n",
       "      <th>C4</th>\n",
       "      <th>S5</th>\n",
       "      <th>C5</th>\n",
       "      <th>Label</th>\n",
       "    </tr>\n",
       "  </thead>\n",
       "  <tbody>\n",
       "    <tr>\n",
       "      <th>count</th>\n",
       "      <td>25010.000000</td>\n",
       "      <td>25010.000000</td>\n",
       "      <td>25010.000000</td>\n",
       "      <td>25010.000000</td>\n",
       "      <td>25010.000000</td>\n",
       "      <td>25010.000000</td>\n",
       "      <td>25010.000000</td>\n",
       "      <td>25010.000000</td>\n",
       "      <td>25010.000000</td>\n",
       "      <td>25010.000000</td>\n",
       "      <td>25010.000000</td>\n",
       "    </tr>\n",
       "    <tr>\n",
       "      <th>mean</th>\n",
       "      <td>2.508756</td>\n",
       "      <td>6.995242</td>\n",
       "      <td>2.497721</td>\n",
       "      <td>7.014194</td>\n",
       "      <td>2.510236</td>\n",
       "      <td>7.014154</td>\n",
       "      <td>2.495922</td>\n",
       "      <td>6.942463</td>\n",
       "      <td>2.497321</td>\n",
       "      <td>6.962735</td>\n",
       "      <td>0.621152</td>\n",
       "    </tr>\n",
       "    <tr>\n",
       "      <th>std</th>\n",
       "      <td>1.116483</td>\n",
       "      <td>3.749805</td>\n",
       "      <td>1.121767</td>\n",
       "      <td>3.766974</td>\n",
       "      <td>1.123148</td>\n",
       "      <td>3.744974</td>\n",
       "      <td>1.116009</td>\n",
       "      <td>3.747147</td>\n",
       "      <td>1.118732</td>\n",
       "      <td>3.741579</td>\n",
       "      <td>0.788361</td>\n",
       "    </tr>\n",
       "    <tr>\n",
       "      <th>min</th>\n",
       "      <td>1.000000</td>\n",
       "      <td>1.000000</td>\n",
       "      <td>1.000000</td>\n",
       "      <td>1.000000</td>\n",
       "      <td>1.000000</td>\n",
       "      <td>1.000000</td>\n",
       "      <td>1.000000</td>\n",
       "      <td>1.000000</td>\n",
       "      <td>1.000000</td>\n",
       "      <td>1.000000</td>\n",
       "      <td>0.000000</td>\n",
       "    </tr>\n",
       "    <tr>\n",
       "      <th>25%</th>\n",
       "      <td>2.000000</td>\n",
       "      <td>4.000000</td>\n",
       "      <td>1.000000</td>\n",
       "      <td>4.000000</td>\n",
       "      <td>2.000000</td>\n",
       "      <td>4.000000</td>\n",
       "      <td>1.000000</td>\n",
       "      <td>4.000000</td>\n",
       "      <td>1.000000</td>\n",
       "      <td>4.000000</td>\n",
       "      <td>0.000000</td>\n",
       "    </tr>\n",
       "    <tr>\n",
       "      <th>50%</th>\n",
       "      <td>3.000000</td>\n",
       "      <td>7.000000</td>\n",
       "      <td>2.000000</td>\n",
       "      <td>7.000000</td>\n",
       "      <td>3.000000</td>\n",
       "      <td>7.000000</td>\n",
       "      <td>2.000000</td>\n",
       "      <td>7.000000</td>\n",
       "      <td>3.000000</td>\n",
       "      <td>7.000000</td>\n",
       "      <td>1.000000</td>\n",
       "    </tr>\n",
       "    <tr>\n",
       "      <th>75%</th>\n",
       "      <td>4.000000</td>\n",
       "      <td>10.000000</td>\n",
       "      <td>4.000000</td>\n",
       "      <td>10.000000</td>\n",
       "      <td>4.000000</td>\n",
       "      <td>10.000000</td>\n",
       "      <td>3.000000</td>\n",
       "      <td>10.000000</td>\n",
       "      <td>3.000000</td>\n",
       "      <td>10.000000</td>\n",
       "      <td>1.000000</td>\n",
       "    </tr>\n",
       "    <tr>\n",
       "      <th>max</th>\n",
       "      <td>4.000000</td>\n",
       "      <td>13.000000</td>\n",
       "      <td>4.000000</td>\n",
       "      <td>13.000000</td>\n",
       "      <td>4.000000</td>\n",
       "      <td>13.000000</td>\n",
       "      <td>4.000000</td>\n",
       "      <td>13.000000</td>\n",
       "      <td>4.000000</td>\n",
       "      <td>13.000000</td>\n",
       "      <td>9.000000</td>\n",
       "    </tr>\n",
       "  </tbody>\n",
       "</table>\n",
       "</div>"
      ],
      "text/plain": [
       "                 S1            C1            S2            C2            S3  \\\n",
       "count  25010.000000  25010.000000  25010.000000  25010.000000  25010.000000   \n",
       "mean       2.508756      6.995242      2.497721      7.014194      2.510236   \n",
       "std        1.116483      3.749805      1.121767      3.766974      1.123148   \n",
       "min        1.000000      1.000000      1.000000      1.000000      1.000000   \n",
       "25%        2.000000      4.000000      1.000000      4.000000      2.000000   \n",
       "50%        3.000000      7.000000      2.000000      7.000000      3.000000   \n",
       "75%        4.000000     10.000000      4.000000     10.000000      4.000000   \n",
       "max        4.000000     13.000000      4.000000     13.000000      4.000000   \n",
       "\n",
       "                 C3            S4            C4            S5            C5  \\\n",
       "count  25010.000000  25010.000000  25010.000000  25010.000000  25010.000000   \n",
       "mean       7.014154      2.495922      6.942463      2.497321      6.962735   \n",
       "std        3.744974      1.116009      3.747147      1.118732      3.741579   \n",
       "min        1.000000      1.000000      1.000000      1.000000      1.000000   \n",
       "25%        4.000000      1.000000      4.000000      1.000000      4.000000   \n",
       "50%        7.000000      2.000000      7.000000      3.000000      7.000000   \n",
       "75%       10.000000      3.000000     10.000000      3.000000     10.000000   \n",
       "max       13.000000      4.000000     13.000000      4.000000     13.000000   \n",
       "\n",
       "              Label  \n",
       "count  25010.000000  \n",
       "mean       0.621152  \n",
       "std        0.788361  \n",
       "min        0.000000  \n",
       "25%        0.000000  \n",
       "50%        1.000000  \n",
       "75%        1.000000  \n",
       "max        9.000000  "
      ]
     },
     "execution_count": 610,
     "metadata": {},
     "output_type": "execute_result"
    }
   ],
   "source": [
    "train.describe()"
   ]
  },
  {
   "cell_type": "code",
   "execution_count": 611,
   "id": "94563426",
   "metadata": {
    "scrolled": true
   },
   "outputs": [
    {
     "data": {
      "text/plain": [
       "<AxesSubplot:>"
      ]
     },
     "execution_count": 611,
     "metadata": {},
     "output_type": "execute_result"
    },
    {
     "data": {
      "image/png": "[encoded data removed]",
      "text/plain": [
       "<Figure size 432x288 with 1 Axes>"
      ]
     },
     "metadata": {
      "needs_background": "light"
     },
     "output_type": "display_data"
    }
   ],
   "source": [
    "test['Label'].hist()"
   ]
  },
  {
   "cell_type": "code",
   "execution_count": 612,
   "id": "3a59c067",
   "metadata": {},
   "outputs": [
    {
     "data": {
      "text/plain": [
       "0    49.952019\n",
       "1    42.379048\n",
       "2     4.822071\n",
       "3     2.051180\n",
       "4     0.371851\n",
       "5     0.215914\n",
       "6     0.143942\n",
       "7     0.023990\n",
       "9     0.019992\n",
       "8     0.019992\n",
       "Name: Label, dtype: float64"
      ]
     },
     "execution_count": 612,
     "metadata": {},
     "output_type": "execute_result"
    }
   ],
   "source": [
    "#get class counts\n",
    "class_count = np.bincount(train['Label'])\n",
    "train_rows, train_cols = np.shape(train)\n",
    "data_distribution_percentage = (train['Label'].value_counts()) / len(train) * 100\n",
    "data_distribution_percentage"
   ]
  },
  {
   "cell_type": "code",
   "execution_count": 815,
   "id": "e90d0b8a",
   "metadata": {
    "scrolled": true
   },
   "outputs": [
    {
     "data": {
      "text/html": [
       "<div>\n",
       "<style scoped>\n",
       "    .dataframe tbody tr th:only-of-type {\n",
       "        vertical-align: middle;\n",
       "    }\n",
       "\n",
       "    .dataframe tbody tr th {\n",
       "        vertical-align: top;\n",
       "    }\n",
       "\n",
       "    .dataframe thead th {\n",
       "        text-align: right;\n",
       "    }\n",
       "</style>\n",
       "<table border=\"1\" class=\"dataframe\">\n",
       "  <thead>\n",
       "    <tr style=\"text-align: right;\">\n",
       "      <th></th>\n",
       "      <th>S1</th>\n",
       "      <th>C1</th>\n",
       "      <th>S2</th>\n",
       "      <th>C2</th>\n",
       "      <th>S3</th>\n",
       "      <th>C3</th>\n",
       "      <th>S4</th>\n",
       "      <th>C4</th>\n",
       "      <th>S5</th>\n",
       "      <th>C5</th>\n",
       "      <th>Label</th>\n",
       "    </tr>\n",
       "  </thead>\n",
       "  <tbody>\n",
       "    <tr>\n",
       "      <th>11562</th>\n",
       "      <td>3</td>\n",
       "      <td>7</td>\n",
       "      <td>4</td>\n",
       "      <td>2</td>\n",
       "      <td>4</td>\n",
       "      <td>3</td>\n",
       "      <td>4</td>\n",
       "      <td>13</td>\n",
       "      <td>1</td>\n",
       "      <td>11</td>\n",
       "      <td>0</td>\n",
       "    </tr>\n",
       "    <tr>\n",
       "      <th>835</th>\n",
       "      <td>3</td>\n",
       "      <td>13</td>\n",
       "      <td>1</td>\n",
       "      <td>12</td>\n",
       "      <td>2</td>\n",
       "      <td>5</td>\n",
       "      <td>4</td>\n",
       "      <td>2</td>\n",
       "      <td>2</td>\n",
       "      <td>3</td>\n",
       "      <td>0</td>\n",
       "    </tr>\n",
       "    <tr>\n",
       "      <th>3969</th>\n",
       "      <td>3</td>\n",
       "      <td>9</td>\n",
       "      <td>4</td>\n",
       "      <td>8</td>\n",
       "      <td>4</td>\n",
       "      <td>4</td>\n",
       "      <td>1</td>\n",
       "      <td>2</td>\n",
       "      <td>3</td>\n",
       "      <td>5</td>\n",
       "      <td>0</td>\n",
       "    </tr>\n",
       "    <tr>\n",
       "      <th>16238</th>\n",
       "      <td>1</td>\n",
       "      <td>9</td>\n",
       "      <td>2</td>\n",
       "      <td>6</td>\n",
       "      <td>3</td>\n",
       "      <td>12</td>\n",
       "      <td>1</td>\n",
       "      <td>11</td>\n",
       "      <td>3</td>\n",
       "      <td>5</td>\n",
       "      <td>0</td>\n",
       "    </tr>\n",
       "    <tr>\n",
       "      <th>10881</th>\n",
       "      <td>4</td>\n",
       "      <td>7</td>\n",
       "      <td>4</td>\n",
       "      <td>9</td>\n",
       "      <td>4</td>\n",
       "      <td>13</td>\n",
       "      <td>4</td>\n",
       "      <td>4</td>\n",
       "      <td>3</td>\n",
       "      <td>1</td>\n",
       "      <td>0</td>\n",
       "    </tr>\n",
       "    <tr>\n",
       "      <th>...</th>\n",
       "      <td>...</td>\n",
       "      <td>...</td>\n",
       "      <td>...</td>\n",
       "      <td>...</td>\n",
       "      <td>...</td>\n",
       "      <td>...</td>\n",
       "      <td>...</td>\n",
       "      <td>...</td>\n",
       "      <td>...</td>\n",
       "      <td>...</td>\n",
       "      <td>...</td>\n",
       "    </tr>\n",
       "    <tr>\n",
       "      <th>4</th>\n",
       "      <td>4</td>\n",
       "      <td>1</td>\n",
       "      <td>4</td>\n",
       "      <td>13</td>\n",
       "      <td>4</td>\n",
       "      <td>12</td>\n",
       "      <td>4</td>\n",
       "      <td>11</td>\n",
       "      <td>4</td>\n",
       "      <td>10</td>\n",
       "      <td>9</td>\n",
       "    </tr>\n",
       "    <tr>\n",
       "      <th>1</th>\n",
       "      <td>2</td>\n",
       "      <td>11</td>\n",
       "      <td>2</td>\n",
       "      <td>13</td>\n",
       "      <td>2</td>\n",
       "      <td>10</td>\n",
       "      <td>2</td>\n",
       "      <td>12</td>\n",
       "      <td>2</td>\n",
       "      <td>1</td>\n",
       "      <td>9</td>\n",
       "    </tr>\n",
       "    <tr>\n",
       "      <th>0</th>\n",
       "      <td>1</td>\n",
       "      <td>10</td>\n",
       "      <td>1</td>\n",
       "      <td>11</td>\n",
       "      <td>1</td>\n",
       "      <td>13</td>\n",
       "      <td>1</td>\n",
       "      <td>12</td>\n",
       "      <td>1</td>\n",
       "      <td>1</td>\n",
       "      <td>9</td>\n",
       "    </tr>\n",
       "    <tr>\n",
       "      <th>2</th>\n",
       "      <td>3</td>\n",
       "      <td>12</td>\n",
       "      <td>3</td>\n",
       "      <td>11</td>\n",
       "      <td>3</td>\n",
       "      <td>13</td>\n",
       "      <td>3</td>\n",
       "      <td>10</td>\n",
       "      <td>3</td>\n",
       "      <td>1</td>\n",
       "      <td>9</td>\n",
       "    </tr>\n",
       "    <tr>\n",
       "      <th>3</th>\n",
       "      <td>4</td>\n",
       "      <td>10</td>\n",
       "      <td>4</td>\n",
       "      <td>11</td>\n",
       "      <td>4</td>\n",
       "      <td>1</td>\n",
       "      <td>4</td>\n",
       "      <td>13</td>\n",
       "      <td>4</td>\n",
       "      <td>12</td>\n",
       "      <td>9</td>\n",
       "    </tr>\n",
       "  </tbody>\n",
       "</table>\n",
       "<p>25010 rows × 11 columns</p>\n",
       "</div>"
      ],
      "text/plain": [
       "       S1  C1  S2  C2  S3  C3  S4  C4  S5  C5  Label\n",
       "11562   3   7   4   2   4   3   4  13   1  11      0\n",
       "835     3  13   1  12   2   5   4   2   2   3      0\n",
       "3969    3   9   4   8   4   4   1   2   3   5      0\n",
       "16238   1   9   2   6   3  12   1  11   3   5      0\n",
       "10881   4   7   4   9   4  13   4   4   3   1      0\n",
       "...    ..  ..  ..  ..  ..  ..  ..  ..  ..  ..    ...\n",
       "4       4   1   4  13   4  12   4  11   4  10      9\n",
       "1       2  11   2  13   2  10   2  12   2   1      9\n",
       "0       1  10   1  11   1  13   1  12   1   1      9\n",
       "2       3  12   3  11   3  13   3  10   3   1      9\n",
       "3       4  10   4  11   4   1   4  13   4  12      9\n",
       "\n",
       "[25010 rows x 11 columns]"
      ]
     },
     "execution_count": 815,
     "metadata": {},
     "output_type": "execute_result"
    }
   ],
   "source": [
    "#split data for test and validation\n",
    "disproportionate_sampling = train.groupby('Label', group_keys=False).apply(lambda x: x.sample(2)) #disproportionate stratified sampling\n",
    "proportionate_sampling = train.groupby('Label', group_keys=False).apply(lambda x: x.sample(frac=1.0)) #proportionate sampling\n",
    "proportionate_sampling"
   ]
  },
  {
   "cell_type": "code",
   "execution_count": 816,
   "id": "d80e38c5",
   "metadata": {},
   "outputs": [
    {
     "data": {
      "text/html": [
       "<div>\n",
       "<style scoped>\n",
       "    .dataframe tbody tr th:only-of-type {\n",
       "        vertical-align: middle;\n",
       "    }\n",
       "\n",
       "    .dataframe tbody tr th {\n",
       "        vertical-align: top;\n",
       "    }\n",
       "\n",
       "    .dataframe thead th {\n",
       "        text-align: right;\n",
       "    }\n",
       "</style>\n",
       "<table border=\"1\" class=\"dataframe\">\n",
       "  <thead>\n",
       "    <tr style=\"text-align: right;\">\n",
       "      <th></th>\n",
       "      <th>S1</th>\n",
       "      <th>C1</th>\n",
       "      <th>S2</th>\n",
       "      <th>C2</th>\n",
       "      <th>S3</th>\n",
       "      <th>C3</th>\n",
       "      <th>S4</th>\n",
       "      <th>C4</th>\n",
       "      <th>S5</th>\n",
       "      <th>C5</th>\n",
       "      <th>Label</th>\n",
       "    </tr>\n",
       "  </thead>\n",
       "  <tbody>\n",
       "  </tbody>\n",
       "</table>\n",
       "</div>"
      ],
      "text/plain": [
       "Empty DataFrame\n",
       "Columns: [S1, C1, S2, C2, S3, C3, S4, C4, S5, C5, Label]\n",
       "Index: []"
      ]
     },
     "execution_count": 816,
     "metadata": {},
     "output_type": "execute_result"
    }
   ],
   "source": [
    "#remove validatation data set from main data set\n",
    "final_train = train.merge(proportionate_sampling, indicator=True, how='outer').query('_merge==\"left_only\"').drop('_merge', axis=1) #merge\n",
    "final_train"
   ]
  },
  {
   "cell_type": "code",
   "execution_count": 817,
   "id": "2ada3c68",
   "metadata": {},
   "outputs": [
    {
     "data": {
      "text/plain": [
       "array([[0., 0., 0., ..., 0., 0., 1.],\n",
       "       [0., 0., 0., ..., 0., 0., 1.],\n",
       "       [0., 0., 0., ..., 0., 0., 1.],\n",
       "       ...,\n",
       "       [0., 1., 0., ..., 0., 0., 0.],\n",
       "       [0., 1., 0., ..., 0., 0., 0.],\n",
       "       [0., 1., 0., ..., 0., 0., 0.]], dtype=float32)"
      ]
     },
     "execution_count": 817,
     "metadata": {},
     "output_type": "execute_result"
    }
   ],
   "source": [
    "train_full = train.copy()\n",
    "train_full_classification = np.array(train_full.pop('Label'))\n",
    "train_full = np.array(train_full)\n",
    "train_full_classification = np_utils.to_categorical(train_full_classification, num_classes=10)\n",
    "train_full_classification"
   ]
  },
  {
   "cell_type": "code",
   "execution_count": 818,
   "id": "9e4f5e9c",
   "metadata": {
    "scrolled": true
   },
   "outputs": [
    {
     "data": {
      "text/plain": [
       "array([], shape=(0, 10), dtype=int64)"
      ]
     },
     "execution_count": 818,
     "metadata": {},
     "output_type": "execute_result"
    }
   ],
   "source": [
    "#clean train data\n",
    "train_data = final_train.copy()\n",
    "train_classification = train_data.pop('Label')\n",
    "train_data = np.array(train_data)\n",
    "train_classification = np.array(train_classification)\n",
    "train_classification = np_utils.to_categorical(train_classification, num_classes=10)\n",
    "\n",
    "#normalize data\n",
    "#train_data= tf.keras.utils.normalize(train_data, axis=1)\n",
    "train_data"
   ]
  },
  {
   "cell_type": "code",
   "execution_count": 819,
   "id": "70afbb0f",
   "metadata": {},
   "outputs": [
    {
     "data": {
      "text/plain": [
       "array([[1., 0., 0., ..., 0., 0., 0.],\n",
       "       [1., 0., 0., ..., 0., 0., 0.],\n",
       "       [1., 0., 0., ..., 0., 0., 0.],\n",
       "       ...,\n",
       "       [0., 0., 0., ..., 0., 0., 1.],\n",
       "       [0., 0., 0., ..., 0., 0., 1.],\n",
       "       [0., 0., 0., ..., 0., 0., 1.]], dtype=float32)"
      ]
     },
     "execution_count": 819,
     "metadata": {},
     "output_type": "execute_result"
    }
   ],
   "source": [
    "#clean validation data\n",
    "val_data = proportionate_sampling.copy()\n",
    "val_classification = np.array(val_data.pop('Label'))\n",
    "val_data = np.array(val_data)\n",
    "val_classification = np_utils.to_categorical(val_classification, num_classes=10)\n",
    "val_classification"
   ]
  },
  {
   "cell_type": "code",
   "execution_count": 820,
   "id": "a1006f74",
   "metadata": {},
   "outputs": [],
   "source": [
    "#clean test data\n",
    "test_data = test.copy()\n",
    "test_classification = np.array(test_data.pop('Label'))\n",
    "test_data = np.array(test_data)\n",
    "test_classification = np_utils.to_categorical(test_classification, num_classes=10)"
   ]
  },
  {
   "cell_type": "code",
   "execution_count": 821,
   "id": "382e8ade",
   "metadata": {
    "scrolled": true
   },
   "outputs": [],
   "source": [
    "#model metrics - precision and recall effective for highly imbalance data\n",
    "METRICS = [\n",
    "    'accuracy'\n",
    "]"
   ]
  },
  {
   "cell_type": "code",
   "execution_count": 851,
   "id": "cd36ce1c",
   "metadata": {},
   "outputs": [],
   "source": [
    "#callback for early stopping\n",
    "early_stopping = tf.keras.callbacks.EarlyStopping(\n",
    "    monitor='val_accuracy', \n",
    "    verbose=1,\n",
    "    patience= 15,\n",
    "    mode='max',\n",
    "    restore_best_weights=True)"
   ]
  },
  {
   "cell_type": "code",
   "execution_count": 852,
   "id": "163910ad",
   "metadata": {
    "scrolled": false
   },
   "outputs": [
    {
     "name": "stdout",
     "output_type": "stream",
     "text": [
      "ERROR! Session/line number was not unique in database. History logging moved to new session 442\n"
     ]
    },
    {
     "data": {
      "text/plain": [
       "<tf.Tensor: shape=(1, 10), dtype=float32, numpy=\n",
       "array([[ 0.03865508, -0.88486475,  1.0972427 , -0.4152805 , -0.91196084,\n",
       "        -0.39895985,  0.14275688, -1.6266729 , -1.0656615 ,  0.17116508]],\n",
       "      dtype=float32)>"
      ]
     },
     "execution_count": 852,
     "metadata": {},
     "output_type": "execute_result"
    }
   ],
   "source": [
    "#init weight\n",
    "weight_generator = tf.keras.initializers.RandomNormal(mean=0, stddev=1.)\n",
    "weight1 = weight_generator(shape=(1, 100))\n",
    "weight2 = weight_generator(shape=(1, 100))\n",
    "weight3 = weight_generator(shape=(1, 100))\n",
    "weight4 = weight_generator(shape=(1, 10))\n",
    "\n",
    "weight4"
   ]
  },
  {
   "cell_type": "code",
   "execution_count": 853,
   "id": "26f9fe33",
   "metadata": {},
   "outputs": [
    {
     "data": {
      "text/plain": [
       "array([50.04798081, 57.62095162, 95.17792883, 97.94882047, 99.62814874,\n",
       "       99.78408637, 99.85605758, 99.9760096 , 99.980008  , 99.980008  ])"
      ]
     },
     "execution_count": 853,
     "metadata": {},
     "output_type": "execute_result"
    }
   ],
   "source": [
    "#init bias\n",
    "#data_distribution_percentage\n",
    "bias = []\n",
    "for i in data_distribution_percentage:\n",
    "    bias.append(100 - i)\n",
    "bias = np.array(bias)\n",
    "bias"
   ]
  },
  {
   "cell_type": "code",
   "execution_count": 854,
   "id": "ef37372e",
   "metadata": {},
   "outputs": [],
   "source": [
    "#build model\n",
    "model = tf.keras.models.Sequential()\n",
    "model.add(tf.keras.layers.Dense(100, activation='relu')) #nodes, activition\n",
    "model.add(tf.keras.layers.Dense(100, activation='relu'))\n",
    "model.add(tf.keras.layers.Dense(100, activation='relu'))\n",
    "model.add(tf.keras.layers.Dense(100, activation='relu'))\n",
    "model.add(tf.keras.layers.Dense(10, activation='softmax')) #output"
   ]
  },
  {
   "cell_type": "code",
   "execution_count": 858,
   "id": "f8499ad1",
   "metadata": {
    "scrolled": true
   },
   "outputs": [],
   "source": [
    "#parameters for training\n",
    "model.compile(optimizer= keras.optimizers.Adam(learning_rate=0.001), loss= 'categorical_crossentropy',  metrics= METRICS) #optimizer, loss(error correction), "
   ]
  },
  {
   "cell_type": "code",
   "execution_count": 859,
   "id": "92682999",
   "metadata": {},
   "outputs": [],
   "source": [
    "#model.layers[3].get_weights()\n",
    "#model.layers[4].set_weights([model.layers[4].get_weights(), bias])"
   ]
  },
  {
   "cell_type": "code",
   "execution_count": 860,
   "id": "776a0743",
   "metadata": {
    "scrolled": true
   },
   "outputs": [
    {
     "name": "stdout",
     "output_type": "stream",
     "text": [
      "Train on 25010 samples, validate on 25010 samples\n",
      "Epoch 1/1000\n",
      "25010/25010 [==============================] - 1s 25us/sample - loss: 1.0808 - accuracy: 0.4896 - val_loss: 0.9887 - val_accuracy: 0.5121\n",
      "Epoch 2/1000\n",
      "25010/25010 [==============================] - 0s 13us/sample - loss: 0.9712 - accuracy: 0.5303 - val_loss: 0.9584 - val_accuracy: 0.5441\n",
      "Epoch 3/1000\n",
      "25010/25010 [==============================] - 0s 13us/sample - loss: 0.9559 - accuracy: 0.5463 - val_loss: 0.9479 - val_accuracy: 0.5509\n",
      "Epoch 4/1000\n",
      "25010/25010 [==============================] - 0s 10us/sample - loss: 0.9478 - accuracy: 0.5537 - val_loss: 0.9386 - val_accuracy: 0.5558\n",
      "Epoch 5/1000\n",
      "25010/25010 [==============================] - 0s 10us/sample - loss: 0.9421 - accuracy: 0.5536 - val_loss: 0.9419 - val_accuracy: 0.5635\n",
      "Epoch 6/1000\n",
      "25010/25010 [==============================] - 0s 10us/sample - loss: 0.9393 - accuracy: 0.5582 - val_loss: 0.9271 - val_accuracy: 0.5642\n",
      "Epoch 7/1000\n",
      "25010/25010 [==============================] - 0s 10us/sample - loss: 0.9336 - accuracy: 0.5609 - val_loss: 0.9270 - val_accuracy: 0.5636\n",
      "Epoch 8/1000\n",
      "25010/25010 [==============================] - 0s 10us/sample - loss: 0.9302 - accuracy: 0.5633 - val_loss: 0.9391 - val_accuracy: 0.5517\n",
      "Epoch 9/1000\n",
      "25010/25010 [==============================] - 0s 10us/sample - loss: 0.9256 - accuracy: 0.5671 - val_loss: 0.9208 - val_accuracy: 0.5738\n",
      "Epoch 10/1000\n",
      "25010/25010 [==============================] - 0s 10us/sample - loss: 0.9204 - accuracy: 0.5726 - val_loss: 0.9181 - val_accuracy: 0.5762\n",
      "Epoch 11/1000\n",
      "25010/25010 [==============================] - 0s 10us/sample - loss: 0.9140 - accuracy: 0.5743 - val_loss: 0.9017 - val_accuracy: 0.5838\n",
      "Epoch 12/1000\n",
      "25010/25010 [==============================] - 0s 12us/sample - loss: 0.9122 - accuracy: 0.5786 - val_loss: 0.9034 - val_accuracy: 0.5807\n",
      "Epoch 13/1000\n",
      "25010/25010 [==============================] - 0s 12us/sample - loss: 0.9045 - accuracy: 0.5828 - val_loss: 0.8906 - val_accuracy: 0.5963\n",
      "Epoch 14/1000\n",
      "25010/25010 [==============================] - 0s 11us/sample - loss: 0.8939 - accuracy: 0.5924 - val_loss: 0.8983 - val_accuracy: 0.5851\n",
      "Epoch 15/1000\n",
      "25010/25010 [==============================] - 0s 11us/sample - loss: 0.8861 - accuracy: 0.5962 - val_loss: 0.8731 - val_accuracy: 0.6024\n",
      "Epoch 16/1000\n",
      "25010/25010 [==============================] - 0s 10us/sample - loss: 0.8771 - accuracy: 0.6019 - val_loss: 0.8746 - val_accuracy: 0.6051\n",
      "Epoch 17/1000\n",
      "25010/25010 [==============================] - 0s 11us/sample - loss: 0.8734 - accuracy: 0.6096 - val_loss: 0.8576 - val_accuracy: 0.6184\n",
      "Epoch 18/1000\n",
      "25010/25010 [==============================] - 0s 11us/sample - loss: 0.8538 - accuracy: 0.6188 - val_loss: 0.8375 - val_accuracy: 0.6281\n",
      "Epoch 19/1000\n",
      "25010/25010 [==============================] - 0s 10us/sample - loss: 0.8390 - accuracy: 0.6271 - val_loss: 0.8142 - val_accuracy: 0.6498\n",
      "Epoch 20/1000\n",
      "25010/25010 [==============================] - 0s 10us/sample - loss: 0.8194 - accuracy: 0.6418 - val_loss: 0.8399 - val_accuracy: 0.6224\n",
      "Epoch 21/1000\n",
      "25010/25010 [==============================] - 0s 10us/sample - loss: 0.8049 - accuracy: 0.6486 - val_loss: 0.8294 - val_accuracy: 0.6330\n",
      "Epoch 22/1000\n",
      "25010/25010 [==============================] - 0s 10us/sample - loss: 0.7911 - accuracy: 0.6555 - val_loss: 0.7719 - val_accuracy: 0.6679\n",
      "Epoch 23/1000\n",
      "25010/25010 [==============================] - 0s 10us/sample - loss: 0.7708 - accuracy: 0.6673 - val_loss: 0.7566 - val_accuracy: 0.6700\n",
      "Epoch 24/1000\n",
      "25010/25010 [==============================] - 0s 10us/sample - loss: 0.7483 - accuracy: 0.6837 - val_loss: 0.7428 - val_accuracy: 0.6828\n",
      "Epoch 25/1000\n",
      "25010/25010 [==============================] - 0s 10us/sample - loss: 0.7228 - accuracy: 0.6957 - val_loss: 0.7076 - val_accuracy: 0.7044\n",
      "Epoch 26/1000\n",
      "25010/25010 [==============================] - 0s 10us/sample - loss: 0.7029 - accuracy: 0.7054 - val_loss: 0.7057 - val_accuracy: 0.7056\n",
      "Epoch 27/1000\n",
      "25010/25010 [==============================] - 0s 10us/sample - loss: 0.6820 - accuracy: 0.7167 - val_loss: 0.6826 - val_accuracy: 0.7146\n",
      "Epoch 28/1000\n",
      "25010/25010 [==============================] - 0s 10us/sample - loss: 0.6672 - accuracy: 0.7232 - val_loss: 0.6610 - val_accuracy: 0.7236\n",
      "Epoch 29/1000\n",
      "25010/25010 [==============================] - 0s 10us/sample - loss: 0.6496 - accuracy: 0.7324 - val_loss: 0.6468 - val_accuracy: 0.7293\n",
      "Epoch 30/1000\n",
      "25010/25010 [==============================] - 0s 10us/sample - loss: 0.6309 - accuracy: 0.7392 - val_loss: 0.5956 - val_accuracy: 0.7584\n",
      "Epoch 31/1000\n",
      "25010/25010 [==============================] - 0s 10us/sample - loss: 0.6103 - accuracy: 0.7517 - val_loss: 0.6276 - val_accuracy: 0.7255\n",
      "Epoch 32/1000\n",
      "25010/25010 [==============================] - 0s 12us/sample - loss: 0.5950 - accuracy: 0.7592 - val_loss: 0.5749 - val_accuracy: 0.7710\n",
      "Epoch 33/1000\n",
      "25010/25010 [==============================] - 0s 11us/sample - loss: 0.5844 - accuracy: 0.7637 - val_loss: 0.5527 - val_accuracy: 0.7794\n",
      "Epoch 34/1000\n",
      "25010/25010 [==============================] - 0s 10us/sample - loss: 0.5657 - accuracy: 0.7713 - val_loss: 0.5400 - val_accuracy: 0.7840\n",
      "Epoch 35/1000\n",
      "25010/25010 [==============================] - 0s 10us/sample - loss: 0.5470 - accuracy: 0.7820 - val_loss: 0.5796 - val_accuracy: 0.7584\n",
      "Epoch 36/1000\n",
      "25010/25010 [==============================] - 0s 10us/sample - loss: 0.5322 - accuracy: 0.7877 - val_loss: 0.5040 - val_accuracy: 0.8043\n",
      "Epoch 37/1000\n",
      "25010/25010 [==============================] - 0s 10us/sample - loss: 0.5117 - accuracy: 0.7958 - val_loss: 0.5044 - val_accuracy: 0.8028\n",
      "Epoch 38/1000\n",
      "25010/25010 [==============================] - 0s 10us/sample - loss: 0.4973 - accuracy: 0.8045 - val_loss: 0.4703 - val_accuracy: 0.8188\n",
      "Epoch 39/1000\n",
      "25010/25010 [==============================] - 0s 10us/sample - loss: 0.4703 - accuracy: 0.8146 - val_loss: 0.4482 - val_accuracy: 0.8269\n",
      "Epoch 40/1000\n",
      "25010/25010 [==============================] - 0s 10us/sample - loss: 0.4527 - accuracy: 0.8224 - val_loss: 0.4537 - val_accuracy: 0.8200\n",
      "Epoch 41/1000\n",
      "25010/25010 [==============================] - 0s 10us/sample - loss: 0.4306 - accuracy: 0.8353 - val_loss: 0.4548 - val_accuracy: 0.8154\n",
      "Epoch 42/1000\n",
      "25010/25010 [==============================] - 0s 11us/sample - loss: 0.4280 - accuracy: 0.8351 - val_loss: 0.4344 - val_accuracy: 0.8295\n",
      "Epoch 43/1000\n",
      "25010/25010 [==============================] - 0s 12us/sample - loss: 0.3884 - accuracy: 0.8550 - val_loss: 0.3795 - val_accuracy: 0.8561\n",
      "Epoch 44/1000\n",
      "25010/25010 [==============================] - 0s 12us/sample - loss: 0.3833 - accuracy: 0.8547 - val_loss: 0.3769 - val_accuracy: 0.8517\n",
      "Epoch 45/1000\n",
      "25010/25010 [==============================] - 0s 10us/sample - loss: 0.3657 - accuracy: 0.8613 - val_loss: 0.3355 - val_accuracy: 0.8761\n",
      "Epoch 46/1000\n",
      "25010/25010 [==============================] - 0s 10us/sample - loss: 0.3481 - accuracy: 0.8663 - val_loss: 0.3289 - val_accuracy: 0.8790\n",
      "Epoch 47/1000\n",
      "25010/25010 [==============================] - 0s 10us/sample - loss: 0.3210 - accuracy: 0.8819 - val_loss: 0.3211 - val_accuracy: 0.8818\n",
      "Epoch 48/1000\n",
      "25010/25010 [==============================] - 0s 10us/sample - loss: 0.3063 - accuracy: 0.8870 - val_loss: 0.3409 - val_accuracy: 0.8764\n",
      "Epoch 49/1000\n",
      "25010/25010 [==============================] - 0s 10us/sample - loss: 0.3651 - accuracy: 0.8679 - val_loss: 0.2865 - val_accuracy: 0.8988\n",
      "Epoch 50/1000\n",
      "25010/25010 [==============================] - 0s 10us/sample - loss: 0.2839 - accuracy: 0.8976 - val_loss: 0.2555 - val_accuracy: 0.9120\n",
      "Epoch 51/1000\n",
      "25010/25010 [==============================] - 0s 10us/sample - loss: 0.2480 - accuracy: 0.9133 - val_loss: 0.2286 - val_accuracy: 0.9192\n",
      "Epoch 52/1000\n",
      "25010/25010 [==============================] - 0s 10us/sample - loss: 0.2393 - accuracy: 0.9165 - val_loss: 0.2212 - val_accuracy: 0.9245\n",
      "Epoch 53/1000\n",
      "25010/25010 [==============================] - 0s 10us/sample - loss: 0.2220 - accuracy: 0.9226 - val_loss: 0.2069 - val_accuracy: 0.9307\n",
      "Epoch 54/1000\n"
     ]
    },
    {
     "name": "stdout",
     "output_type": "stream",
     "text": [
      "25010/25010 [==============================] - 0s 10us/sample - loss: 0.2077 - accuracy: 0.9287 - val_loss: 0.1906 - val_accuracy: 0.9413\n",
      "Epoch 55/1000\n",
      "25010/25010 [==============================] - 0s 10us/sample - loss: 0.1880 - accuracy: 0.9369 - val_loss: 0.1649 - val_accuracy: 0.9506\n",
      "Epoch 56/1000\n",
      "25010/25010 [==============================] - 0s 10us/sample - loss: 0.1916 - accuracy: 0.9341 - val_loss: 0.2102 - val_accuracy: 0.9192\n",
      "Epoch 57/1000\n",
      "25010/25010 [==============================] - 0s 11us/sample - loss: 0.1715 - accuracy: 0.9433 - val_loss: 0.1338 - val_accuracy: 0.9603\n",
      "Epoch 58/1000\n",
      "25010/25010 [==============================] - 0s 10us/sample - loss: 0.1296 - accuracy: 0.9633 - val_loss: 0.1159 - val_accuracy: 0.9671\n",
      "Epoch 59/1000\n",
      "25010/25010 [==============================] - 0s 10us/sample - loss: 0.1238 - accuracy: 0.9653 - val_loss: 0.1084 - val_accuracy: 0.9715\n",
      "Epoch 60/1000\n",
      "25010/25010 [==============================] - 0s 10us/sample - loss: 0.1176 - accuracy: 0.9662 - val_loss: 0.1359 - val_accuracy: 0.9573\n",
      "Epoch 61/1000\n",
      "25010/25010 [==============================] - 0s 10us/sample - loss: 0.1381 - accuracy: 0.9577 - val_loss: 0.1031 - val_accuracy: 0.9695\n",
      "Epoch 62/1000\n",
      "25010/25010 [==============================] - 0s 10us/sample - loss: 0.0936 - accuracy: 0.9759 - val_loss: 0.0802 - val_accuracy: 0.9807\n",
      "Epoch 63/1000\n",
      "25010/25010 [==============================] - 0s 10us/sample - loss: 0.0845 - accuracy: 0.9789 - val_loss: 0.0750 - val_accuracy: 0.9827\n",
      "Epoch 64/1000\n",
      "25010/25010 [==============================] - 0s 10us/sample - loss: 0.0821 - accuracy: 0.9782 - val_loss: 0.1231 - val_accuracy: 0.9618\n",
      "Epoch 65/1000\n",
      "25010/25010 [==============================] - 0s 12us/sample - loss: 0.1151 - accuracy: 0.9651 - val_loss: 0.1550 - val_accuracy: 0.9501\n",
      "Epoch 66/1000\n",
      "25010/25010 [==============================] - 0s 10us/sample - loss: 0.1551 - accuracy: 0.9546 - val_loss: 0.0599 - val_accuracy: 0.9884\n",
      "Epoch 67/1000\n",
      "25010/25010 [==============================] - 0s 11us/sample - loss: 0.0599 - accuracy: 0.9871 - val_loss: 0.0542 - val_accuracy: 0.9900\n",
      "Epoch 68/1000\n",
      "25010/25010 [==============================] - 0s 12us/sample - loss: 0.0564 - accuracy: 0.9877 - val_loss: 0.0527 - val_accuracy: 0.9899\n",
      "Epoch 69/1000\n",
      "25010/25010 [==============================] - 0s 10us/sample - loss: 0.0518 - accuracy: 0.9891 - val_loss: 0.0452 - val_accuracy: 0.9915\n",
      "Epoch 70/1000\n",
      "25010/25010 [==============================] - 0s 10us/sample - loss: 0.0524 - accuracy: 0.9888 - val_loss: 0.0444 - val_accuracy: 0.9909\n",
      "Epoch 71/1000\n",
      "25010/25010 [==============================] - 0s 10us/sample - loss: 0.0478 - accuracy: 0.9902 - val_loss: 0.0445 - val_accuracy: 0.9913\n",
      "Epoch 72/1000\n",
      "25010/25010 [==============================] - 0s 10us/sample - loss: 0.0531 - accuracy: 0.9875 - val_loss: 0.0404 - val_accuracy: 0.9920\n",
      "Epoch 73/1000\n",
      "25010/25010 [==============================] - 0s 10us/sample - loss: 0.0458 - accuracy: 0.9897 - val_loss: 0.0471 - val_accuracy: 0.9879\n",
      "Epoch 74/1000\n",
      "25010/25010 [==============================] - 0s 11us/sample - loss: 0.0601 - accuracy: 0.9830 - val_loss: 0.0511 - val_accuracy: 0.9878\n",
      "Epoch 75/1000\n",
      "25010/25010 [==============================] - 0s 12us/sample - loss: 0.1019 - accuracy: 0.9671 - val_loss: 0.1456 - val_accuracy: 0.9551\n",
      "Epoch 76/1000\n",
      "25010/25010 [==============================] - 0s 11us/sample - loss: 0.0574 - accuracy: 0.9851 - val_loss: 0.0357 - val_accuracy: 0.9934\n",
      "Epoch 77/1000\n",
      "25010/25010 [==============================] - 0s 10us/sample - loss: 0.0352 - accuracy: 0.9932 - val_loss: 0.0266 - val_accuracy: 0.9956\n",
      "Epoch 78/1000\n",
      "25010/25010 [==============================] - 0s 10us/sample - loss: 0.0303 - accuracy: 0.9936 - val_loss: 0.0255 - val_accuracy: 0.9960\n",
      "Epoch 79/1000\n",
      "25010/25010 [==============================] - 0s 10us/sample - loss: 0.0291 - accuracy: 0.9939 - val_loss: 0.0339 - val_accuracy: 0.9928\n",
      "Epoch 80/1000\n",
      "25010/25010 [==============================] - 0s 11us/sample - loss: 0.0395 - accuracy: 0.9898 - val_loss: 0.0350 - val_accuracy: 0.9924\n",
      "Epoch 81/1000\n",
      "25010/25010 [==============================] - 0s 10us/sample - loss: 0.0585 - accuracy: 0.9834 - val_loss: 0.1388 - val_accuracy: 0.9575\n",
      "Epoch 82/1000\n",
      "25010/25010 [==============================] - 0s 10us/sample - loss: 0.0714 - accuracy: 0.9793 - val_loss: 0.0318 - val_accuracy: 0.9936\n",
      "Epoch 83/1000\n",
      "25010/25010 [==============================] - 0s 10us/sample - loss: 0.0304 - accuracy: 0.9936 - val_loss: 0.0216 - val_accuracy: 0.9960\n",
      "Epoch 84/1000\n",
      "25010/25010 [==============================] - 0s 13us/sample - loss: 0.0232 - accuracy: 0.9959 - val_loss: 0.0200 - val_accuracy: 0.9965\n",
      "Epoch 85/1000\n",
      "25010/25010 [==============================] - 0s 12us/sample - loss: 0.0233 - accuracy: 0.9954 - val_loss: 0.0227 - val_accuracy: 0.9950\n",
      "Epoch 86/1000\n",
      "25010/25010 [==============================] - 0s 10us/sample - loss: 0.0239 - accuracy: 0.9952 - val_loss: 0.0204 - val_accuracy: 0.9963\n",
      "Epoch 87/1000\n",
      "25010/25010 [==============================] - 0s 10us/sample - loss: 0.0726 - accuracy: 0.9785 - val_loss: 0.0713 - val_accuracy: 0.9775\n",
      "Epoch 88/1000\n",
      "25010/25010 [==============================] - 0s 10us/sample - loss: 0.0484 - accuracy: 0.9871 - val_loss: 0.0490 - val_accuracy: 0.9860\n",
      "Epoch 89/1000\n",
      "25010/25010 [==============================] - 0s 10us/sample - loss: 0.0828 - accuracy: 0.9747 - val_loss: 0.0288 - val_accuracy: 0.9934\n",
      "Epoch 90/1000\n",
      "25010/25010 [==============================] - 0s 10us/sample - loss: 0.0259 - accuracy: 0.9943 - val_loss: 0.0191 - val_accuracy: 0.9956\n",
      "Epoch 91/1000\n",
      "25010/25010 [==============================] - 0s 10us/sample - loss: 0.0207 - accuracy: 0.9957 - val_loss: 0.0174 - val_accuracy: 0.9964\n",
      "Epoch 92/1000\n",
      "25010/25010 [==============================] - 0s 10us/sample - loss: 0.0187 - accuracy: 0.9962 - val_loss: 0.0175 - val_accuracy: 0.9954\n",
      "Epoch 93/1000\n",
      "25010/25010 [==============================] - 0s 10us/sample - loss: 0.0180 - accuracy: 0.9963 - val_loss: 0.0210 - val_accuracy: 0.9954\n",
      "Epoch 94/1000\n",
      "25010/25010 [==============================] - 0s 10us/sample - loss: 0.0361 - accuracy: 0.9897 - val_loss: 0.0401 - val_accuracy: 0.9879\n",
      "Epoch 95/1000\n",
      "25010/25010 [==============================] - 0s 10us/sample - loss: 0.0403 - accuracy: 0.9884 - val_loss: 0.0323 - val_accuracy: 0.9912\n",
      "Epoch 96/1000\n",
      "25010/25010 [==============================] - 0s 10us/sample - loss: 0.0399 - accuracy: 0.9885 - val_loss: 0.0283 - val_accuracy: 0.9930\n",
      "Epoch 97/1000\n",
      "25010/25010 [==============================] - 0s 10us/sample - loss: 0.0282 - accuracy: 0.9927 - val_loss: 0.0702 - val_accuracy: 0.9769\n",
      "Epoch 98/1000\n",
      "25010/25010 [==============================] - 0s 10us/sample - loss: 0.0296 - accuracy: 0.9919 - val_loss: 0.0300 - val_accuracy: 0.9919\n",
      "Epoch 99/1000\n",
      "25000/25010 [============================>.] - ETA: 0s - loss: 0.0829 - accuracy: 0.9753Restoring model weights from the end of the best epoch.\n",
      "25010/25010 [==============================] - 0s 10us/sample - loss: 0.0829 - accuracy: 0.9753 - val_loss: 0.0555 - val_accuracy: 0.9813\n",
      "Epoch 00099: early stopping\n"
     ]
    }
   ],
   "source": [
    "#train model\n",
    "train_model = model.fit(train_full, train_full_classification, epochs=1000, batch_size= 200, callbacks = [early_stopping], validation_data=(val_data, val_classification)) #add batch_size, validation_split=(1.0 - 0.0)"
   ]
  },
  {
   "cell_type": "code",
   "execution_count": 861,
   "id": "85af779d",
   "metadata": {
    "scrolled": true
   },
   "outputs": [],
   "source": [
    "#model.get_weights()"
   ]
  },
  {
   "cell_type": "code",
   "execution_count": 862,
   "id": "d06bac85",
   "metadata": {
    "scrolled": true
   },
   "outputs": [
    {
     "name": "stdout",
     "output_type": "stream",
     "text": [
      "ERROR! Session/line number was not unique in database. History logging moved to new session 444\n",
      "25010/25010 [==============================] - 0s 13us/sample - loss: 0.0200 - accuracy: 0.9965\n"
     ]
    }
   ],
   "source": [
    "#test model\n",
    "#model.summary()\n",
    "train_accuracy = model.evaluate(train_full, train_full_classification)"
   ]
  },
  {
   "cell_type": "code",
   "execution_count": 863,
   "id": "cd107054",
   "metadata": {},
   "outputs": [
    {
     "name": "stdout",
     "output_type": "stream",
     "text": [
      "25010/25010 [==============================] - 0s 13us/sample - loss: 0.0200 - accuracy: 0.9965\n"
     ]
    }
   ],
   "source": [
    "test_accuracy = model.evaluate(val_data, val_classification)"
   ]
  },
  {
   "cell_type": "code",
   "execution_count": 864,
   "id": "3d89df34",
   "metadata": {
    "scrolled": false
   },
   "outputs": [
    {
     "data": {
      "text/plain": [
       "<matplotlib.legend.Legend at 0x17d53763548>"
      ]
     },
     "execution_count": 864,
     "metadata": {},
     "output_type": "execute_result"
    },
    {
     "data": {
      "image/png": "[encoded data removed]",
      "text/plain": [
       "<Figure size 432x288 with 1 Axes>"
      ]
     },
     "metadata": {
      "needs_background": "light"
     },
     "output_type": "display_data"
    }
   ],
   "source": [
    "plt.subplot(211)\n",
    "plt.title('Loss')\n",
    "plt.plot(train_model.history['loss'], label='train')\n",
    "plt.plot(train_model.history['val_loss'], label='validation')\n",
    "plt.legend()"
   ]
  },
  {
   "cell_type": "code",
   "execution_count": 865,
   "id": "c23baeb2",
   "metadata": {
    "scrolled": true
   },
   "outputs": [
    {
     "data": {
      "image/png": "[encoded data removed]",
      "text/plain": [
       "<Figure size 432x288 with 1 Axes>"
      ]
     },
     "metadata": {
      "needs_background": "light"
     },
     "output_type": "display_data"
    }
   ],
   "source": [
    "# plot accuracy during training\n",
    "plt.subplot(212)\n",
    "plt.title('Accuracy')\n",
    "plt.plot(train_model.history['accuracy'], label='train')\n",
    "plt.plot(train_model.history['val_accuracy'], label='validation')\n",
    "plt.legend()\n",
    "plt.show()"
   ]
  },
  {
   "cell_type": "code",
   "execution_count": 866,
   "id": "a8cb1264",
   "metadata": {
    "scrolled": true
   },
   "outputs": [],
   "source": [
    "#predict prob for test set\n",
    "predict_probs = model.predict(test_data, verbose=0)\n",
    "#predict_probs = predict_probs[:, 0]\n",
    "#predict crisp classes for test set\n",
    "#predict_classes = model.predict_classes(test_data, verbose=0)\n"
   ]
  },
  {
   "cell_type": "code",
   "execution_count": 867,
   "id": "336f270d",
   "metadata": {
    "scrolled": true
   },
   "outputs": [
    {
     "data": {
      "text/plain": [
       "array([1, 1, 1, ..., 1, 1, 2], dtype=int64)"
      ]
     },
     "execution_count": 867,
     "metadata": {},
     "output_type": "execute_result"
    }
   ],
   "source": [
    "#transform data to interpret actual class\n",
    "test_actual_class = np.argmax(test_classification, axis=1)\n",
    "test_actual_class"
   ]
  },
  {
   "cell_type": "code",
   "execution_count": 868,
   "id": "a9a0b120",
   "metadata": {},
   "outputs": [
    {
     "data": {
      "text/plain": [
       "array([1, 1, 1, ..., 1, 1, 2], dtype=int64)"
      ]
     },
     "execution_count": 868,
     "metadata": {},
     "output_type": "execute_result"
    }
   ],
   "source": [
    "#transform prediction prob to interpret to actual class\n",
    "predict_actual_probs = np.argmax(predict_probs, axis=1)\n",
    "predict_actual_probs"
   ]
  },
  {
   "cell_type": "code",
   "execution_count": 869,
   "id": "c98bffb3",
   "metadata": {
    "scrolled": true
   },
   "outputs": [
    {
     "name": "stdout",
     "output_type": "stream",
     "text": [
      "              precision    recall  f1-score   support\n",
      "\n",
      "           0       0.99      1.00      0.99    501208\n",
      "           1       0.99      1.00      1.00    422498\n",
      "           2       0.97      0.95      0.96     47622\n",
      "           3       0.96      0.95      0.95     21121\n",
      "           4       0.67      0.45      0.54      3885\n",
      "           5       0.03      0.00      0.00      1996\n",
      "           6       0.90      0.74      0.81      1424\n",
      "           7       0.63      0.21      0.32       230\n",
      "           8       0.00      0.00      0.00        12\n",
      "           9       0.00      0.00      0.00         3\n",
      "\n",
      "    accuracy                           0.99    999999\n",
      "   macro avg       0.61      0.53      0.56    999999\n",
      "weighted avg       0.99      0.99      0.99    999999\n",
      "\n"
     ]
    }
   ],
   "source": [
    "#test_vector = np_utils.to_categorical(test_classification, num_classes=10)\n",
    "print(sklearn.metrics.classification_report(test_actual_class, predict_actual_probs))"
   ]
  },
  {
   "cell_type": "code",
   "execution_count": 870,
   "id": "514d773d",
   "metadata": {
    "scrolled": false
   },
   "outputs": [
    {
     "data": {
      "text/plain": [
       "<AxesSubplot:>"
      ]
     },
     "execution_count": 870,
     "metadata": {},
     "output_type": "execute_result"
    },
    {
     "data": {
      "image/png": "[encoded data removed]",
      "text/plain": [
       "<Figure size 3000x3000 with 2 Axes>"
      ]
     },
     "metadata": {
      "needs_background": "light"
     },
     "output_type": "display_data"
    }
   ],
   "source": [
    "#confusion matrix\n",
    "model_confusion_matrix = sklearn.metrics.confusion_matrix(test_actual_class, predict_actual_probs)\n",
    "\n",
    "plt_confusion_matrix = pd.DataFrame(model_confusion_matrix)\n",
    "plt.figure(figsize=(10, 10), dpi=300)\n",
    "\n",
    "sns.heatmap(plt_confusion_matrix, cmap='Blues', vmin=0, vmax=1, annot= True, fmt='.0f')"
   ]
  },
  {
   "cell_type": "code",
   "execution_count": 847,
   "id": "49971db0",
   "metadata": {
    "scrolled": true
   },
   "outputs": [],
   "source": [
    "shape_dict = {}\n",
    "for layer in model.layers:\n",
    "    if layer.get_weights() != []:\n",
    "        shape_dict[layer.name] = np.shape(layer.get_weights()[0])\n",
    "        np.savetxt(layer.name+\".csv\", layer.get_weights()[0].flatten(), delimiter=',')\n",
    "\n",
    "np.savetxt(bias+\".csv\", model.layer[4].get_weights()[1], delimiter=',')"
   ]
  },
  {
   "cell_type": "code",
   "execution_count": 843,
   "id": "5bd4bd27",
   "metadata": {},
   "outputs": [],
   "source": [
    "#hyper parameter\n",
    "#input size = size of data set\n",
    "#nodes = 100\n",
    "#layers = 5\n",
    "#classes = 10\n",
    "#epochs 37\n",
    "# batch \n",
    "# learning rate = 0.001"
   ]
  },
  {
   "cell_type": "code",
   "execution_count": 840,
   "id": "3a7e5f02",
   "metadata": {},
   "outputs": [],
   "source": [
    "#feed forward function"
   ]
  },
  {
   "cell_type": "code",
   "execution_count": 841,
   "id": "79b44e32",
   "metadata": {},
   "outputs": [],
   "source": [
    "#loss function mean-squared"
   ]
  },
  {
   "cell_type": "code",
   "execution_count": 812,
   "id": "aff58370",
   "metadata": {},
   "outputs": [],
   "source": [
    "#back propagation"
   ]
  },
  {
   "cell_type": "code",
   "execution_count": 813,
   "id": "77e8838b",
   "metadata": {},
   "outputs": [],
   "source": [
    "#training loop"
   ]
  },
  {
   "cell_type": "code",
   "execution_count": 814,
   "id": "a5a91404",
   "metadata": {},
   "outputs": [
    {
     "data": {
      "text/plain": [
       "'\\nmultilayer perceptron based on different research\\n3 layer\\n10 nodes\\n\\nsource:\\nhttps://ieeexplore.ieee.org/document/7813761\\nhttps://towardsdatascience.com/a-good-machine-learning-classifiers-accuracy-metric-for-the-poker-hand-dataset-44cc3456b66d\\nhttps://walintonc.github.io/papers/ml_pokerhand.pdf - add other ml techniques\\nimbalance data: https://www.tensorflow.org/tutorials/structured_data/imbalanced_data\\n'"
      ]
     },
     "execution_count": 814,
     "metadata": {},
     "output_type": "execute_result"
    }
   ],
   "source": [
    "#proposed solution\n",
    "'''\n",
    "multilayer perceptron based on different research\n",
    "3 layer\n",
    "10 nodes\n",
    "\n",
    "source:\n",
    "https://ieeexplore.ieee.org/document/7813761\n",
    "https://towardsdatascience.com/a-good-machine-learning-classifiers-accuracy-metric-for-the-poker-hand-dataset-44cc3456b66d\n",
    "https://walintonc.github.io/papers/ml_pokerhand.pdf - add other ml techniques\n",
    "imbalance data: https://www.tensorflow.org/tutorials/structured_data/imbalanced_data\n",
    "'''"
   ]
  },
  {
   "cell_type": "code",
   "execution_count": 69,
   "id": "be836eae",
   "metadata": {},
   "outputs": [],
   "source": [
    "METRICS = [\n",
    "      tf.keras.metrics.TruePositives(name='tp'),\n",
    "      tf.keras.metrics.FalsePositives(name='fp'),\n",
    "      tf.keras.metrics.TrueNegatives(name='tn'),\n",
    "      tf.keras.metrics.FalseNegatives(name='fn'), \n",
    "      tf.keras.metrics.BinaryAccuracy(name='accuracy'),\n",
    "      tf.keras.metrics.Precision(name='precision'),\n",
    "      tf.keras.metrics.Recall(name='recall'),\n",
    "      tf.keras.metrics.AUC(name='auc'),\n",
    "      tf.keras.metrics.AUC(name='prc', curve='PR'), # precision-recall curve\n",
    "]"
   ]
  },
  {
   "cell_type": "code",
   "execution_count": null,
   "id": "dc8a564e",
   "metadata": {},
   "outputs": [],
   "source": []
  }
 ],
 "metadata": {
  "kernelspec": {
   "display_name": "Python 3 (ipykernel)",
   "language": "python",
   "name": "python3"
  },
  "language_info": {
   "codemirror_mode": {
    "name": "ipython",
    "version": 3
   },
   "file_extension": ".py",
   "mimetype": "text/x-python",
   "name": "python",
   "nbconvert_exporter": "python",
   "pygments_lexer": "ipython3",
   "version": "3.7.9"
  }
 },
 "nbformat": 4,
 "nbformat_minor": 5
}
